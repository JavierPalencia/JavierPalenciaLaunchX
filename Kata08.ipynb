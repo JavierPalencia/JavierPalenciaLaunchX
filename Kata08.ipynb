{
 "cells": [
  {
   "cell_type": "code",
   "execution_count": 13,
   "metadata": {},
   "outputs": [
    {
     "name": "stdout",
     "output_type": "stream",
     "text": [
      "The planet Mars has 2 moon(s)\n",
      "The planet Mars has a polar circumference of  6752 km.\n",
      "dict_keys(['mercury', 'venus', 'earth', 'mars', 'jupiter', 'saturn', 'uranus', 'neptune', 'pluto', 'haumea', 'makemake', 'eris'])\n",
      "dict_values([0, 0, 1, 2, 79, 82, 27, 14, 5, 2, 1, 1])\n",
      "Total moons: 214\n",
      "Average moons: 17.833333333333332\n"
     ]
    }
   ],
   "source": [
    "planet = {\n",
    "    'name': 'Mars',\n",
    "    'moons': 2   \n",
    "}\n",
    "\n",
    "print('The planet '+ planet['name'] + ' has '+ str(planet['moons']) + ' moon(s)')\n",
    "\n",
    "planet['circumferencekm'] = {\n",
    "    'polar': 6752,\n",
    "    'equatorial': 6792\n",
    "}\n",
    "\n",
    "print('The planet '+ planet['name'] + ' has a polar circumference of  '+ str(planet['circumferencekm']['polar']) + ' km.')\n",
    "\n",
    "# Planets and moons\n",
    "\n",
    "planet_moons = {\n",
    "    'mercury': 0,\n",
    "    'venus': 0,\n",
    "    'earth': 1,\n",
    "    'mars': 2,\n",
    "    'jupiter': 79,\n",
    "    'saturn': 82,\n",
    "    'uranus': 27,\n",
    "    'neptune': 14,\n",
    "    'pluto': 5,\n",
    "    'haumea': 2,\n",
    "    'makemake': 1,\n",
    "    'eris': 1\n",
    "}\n",
    "\n",
    "planets=planet_moons.keys()\n",
    "moons= planet_moons.values()\n",
    "\n",
    "# print(planets)\n",
    "# print(moons)\n",
    "\n",
    "\n",
    "total_moons= 0\n",
    "\n",
    "for m in moons:\n",
    "    total_moons+= m\n",
    "\n",
    "print('Total moons: '+str(total_moons))\n",
    "print('Average moons: '+str(total_moons/len(planets)))\n"
   ]
  }
 ],
 "metadata": {
  "interpreter": {
   "hash": "66c845b81b39026a0265ca168ac506aa48e6045cbf9dcc36f8dfa364764c0be1"
  },
  "kernelspec": {
   "display_name": "Python 3.9.10 64-bit (windows store)",
   "language": "python",
   "name": "python3"
  },
  "language_info": {
   "codemirror_mode": {
    "name": "ipython",
    "version": 3
   },
   "file_extension": ".py",
   "mimetype": "text/x-python",
   "name": "python",
   "nbconvert_exporter": "python",
   "pygments_lexer": "ipython3",
   "version": "3.9.10"
  },
  "orig_nbformat": 4
 },
 "nbformat": 4,
 "nbformat_minor": 2
}
