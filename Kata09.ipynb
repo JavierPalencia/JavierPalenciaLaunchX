{
 "cells": [
  {
   "cell_type": "markdown",
   "metadata": {},
   "source": [
    "# Ejercicio 1"
   ]
  },
  {
   "cell_type": "code",
   "execution_count": 44,
   "metadata": {},
   "outputs": [
    {
     "name": "stdout",
     "output_type": "stream",
     "text": [
      "El promedio es: 7.0\n",
      "El promedio es: 7.0\n"
     ]
    }
   ],
   "source": [
    "def promedio_tanques (tanque1, tanque2, tanque3):\n",
    "    return ('El promedio es: ' + str((tanque1+tanque2+tanque3)/3))\n",
    "\n",
    "print(promedio_tanques(5,7,9))\n",
    "\n",
    "def promedio(values):\n",
    "    return sum(values)/len(values)\n",
    "\n",
    "def reporte(tank1,tank2,tank3): \n",
    "    return 'El promedio es: ' + str(promedio([tank1,tank2,tank3]))\n",
    "\n",
    "print(reporte(5,7,9))\n"
   ]
  },
  {
   "cell_type": "markdown",
   "metadata": {},
   "source": [
    "# Ejercicio 2"
   ]
  },
  {
   "cell_type": "code",
   "execution_count": 45,
   "metadata": {},
   "outputs": [
    {
     "name": "stdout",
     "output_type": "stream",
     "text": [
      "\n",
      "    Tiempo Prelansamiento: 5 horas\n",
      "    Tiempo de Vuelo: 4 horas\n",
      "    Destino: Pluton\n",
      "    Tanque Externo:10\n",
      "    Tanque Inteno: 40\n",
      "    \n",
      "\n",
      "    Total Tiempo: 110 horas\n",
      "    Destino: Marte\n",
      "    Tanque Izquierdo = 100 galones\n",
      "    Tanque Derecho = 80 galones\n",
      "    Tanque Central = 200 galones\n"
     ]
    }
   ],
   "source": [
    "# Función con un informe preciso de la misión. Considera hora de prelanzamiento, tiempo de vuelo, destino, tanque externo y tanque interno\n",
    "\n",
    "def informe(prelansamiento,vuelo,destino,tanque_externo,tanque_interno):\n",
    "    return f\"\"\"\n",
    "    Tiempo Prelansamiento: {prelansamiento} horas\n",
    "    Tiempo de Vuelo: {vuelo} horas\n",
    "    Destino: {destino}\n",
    "    Tanque Externo:{tanque_externo}\n",
    "    Tanque Inteno: {tanque_interno}\n",
    "    \"\"\"\n",
    "\n",
    "print(informe(5,4,'Pluton',10,40))\n",
    "\n",
    "# Escribe tu nueva función de reporte considerando lo anterior\n",
    "def informe2(destino,*tiempos,**tanques):\n",
    "    info= f\"\"\"\n",
    "    Total Tiempo: {sum(tiempos)} horas\n",
    "    Destino: {destino}\"\"\"\n",
    "    for nombre,combustible in tanques.items():\n",
    "        info += f\"\"\"\n",
    "    Tanque {nombre.title()} = {combustible} galones\"\"\"\n",
    "    \n",
    "    return info\n",
    "\n",
    "print(informe2('Marte',10,20,30,50,izquierdo=100,derecho=80,central=200))"
   ]
  }
 ],
 "metadata": {
  "interpreter": {
   "hash": "66c845b81b39026a0265ca168ac506aa48e6045cbf9dcc36f8dfa364764c0be1"
  },
  "kernelspec": {
   "display_name": "Python 3.9.10 64-bit (windows store)",
   "language": "python",
   "name": "python3"
  },
  "language_info": {
   "codemirror_mode": {
    "name": "ipython",
    "version": 3
   },
   "file_extension": ".py",
   "mimetype": "text/x-python",
   "name": "python",
   "nbconvert_exporter": "python",
   "pygments_lexer": "ipython3",
   "version": "3.9.10"
  },
  "orig_nbformat": 4
 },
 "nbformat": 4,
 "nbformat_minor": 2
}
